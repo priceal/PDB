{
 "cells": [
  {
   "cell_type": "code",
   "execution_count": null,
   "id": "72e70432-13d6-4ff0-bff4-e6cda59fa4df",
   "metadata": {},
   "outputs": [],
   "source": [
    "import numpy as np\n",
    "import pandas as pd"
   ]
  },
  {
   "cell_type": "code",
   "execution_count": null,
   "id": "9553fe29-50c1-4a45-8766-a12cbde16eba",
   "metadata": {},
   "outputs": [],
   "source": [
    "# 2025 01 21\n",
    "# use online search tool and download csv file with some data for all structure with at least 1 protein\n",
    "# and 1 DNA, use following search settings:\n",
    "# structure attributes >> entry features >> Number of Distinct Protein Entities >= 1\n",
    "# structure attributes >> entry features >> Number of Distinct DNA  Entities >= 1\n",
    "# results in 8,982 Structures, but online tool only allows downloading 2500 at a time (!?)\n",
    "csvDownloadFile = 'data/rcsb_pdb_custom_report_5de1bc63ccf103de05be17557ad43c81_0001-2500.csv'\n",
    "df = pd.read_csv( csvDownloadFile, skiprows=1 ) # skip first row, second has column names\n",
    "print(df.columns)\n",
    "print(len(df))\n",
    "df.head()"
   ]
  },
  {
   "cell_type": "code",
   "execution_count": null,
   "id": "cff73ac0-1ad7-4f81-8e70-071aed808541",
   "metadata": {},
   "outputs": [],
   "source": [
    "# drop any row with Entry ID = NaN.  These are null cells, \n",
    "# due to format of output from online tool---if there is more than one entry for a cell, it is output on the next\n",
    "# line. We will drop those for now\n",
    "dfDropNullRows = df.dropna( subset=['Entry ID'], axis=0 )\n",
    "len(dfDropNullRows)"
   ]
  },
  {
   "cell_type": "code",
   "execution_count": null,
   "id": "809489af-68f6-4647-aa59-1625681e45cb",
   "metadata": {},
   "outputs": [],
   "source": [
    "# now drop any column that is completely null\n",
    "dfClean = dfDropNullRows.dropna( how='all', axis='columns')\n",
    "print(dfClean.columns)\n",
    "print(len(dfClean))\n",
    "dfClean.head()"
   ]
  },
  {
   "cell_type": "code",
   "execution_count": null,
   "id": "cbef2fb5-3cd0-4c38-93ae-573f8db3b3e5",
   "metadata": {},
   "outputs": [],
   "source": [
    "# now create a list of unique PDB codes\n",
    "pdbList = list(set(dfClean['Entry ID']))"
   ]
  },
  {
   "cell_type": "code",
   "execution_count": null,
   "id": "5d6aba75-f2d2-4bc3-a160-276f62f5a0b8",
   "metadata": {},
   "outputs": [],
   "source": [
    "len(pdbList)"
   ]
  },
  {
   "cell_type": "code",
   "execution_count": null,
   "id": "2e22ef2c-ae47-42d4-a38e-f2a9d747b466",
   "metadata": {},
   "outputs": [],
   "source": [
    "# examine statistics of data table (dfClean)\n",
    "dfClean.hist(column='Number of Distinct DNA Entities')"
   ]
  },
  {
   "cell_type": "code",
   "execution_count": null,
   "id": "36cc6c3c-02fb-4060-8560-029b26606bd5",
   "metadata": {},
   "outputs": [],
   "source": [
    "dfg8=dfClean[ dfClean[ 'Number of Distinct Protein Entities' ] >8 ]"
   ]
  },
  {
   "cell_type": "code",
   "execution_count": null,
   "id": "838d82ba-9d64-4517-9996-331362cb3cda",
   "metadata": {},
   "outputs": [],
   "source": [
    "len(dfg8)"
   ]
  },
  {
   "cell_type": "code",
   "execution_count": null,
   "id": "2b3de21f-eea8-46fc-baa5-9c2e9680570f",
   "metadata": {},
   "outputs": [],
   "source": [
    "set(dfg8[ 'Stucture Keywords' ])"
   ]
  },
  {
   "cell_type": "code",
   "execution_count": null,
   "id": "2bede619-5752-4849-b25c-b57e821cf2d9",
   "metadata": {},
   "outputs": [],
   "source": [
    "dfg8[ dfg8[ 'Stucture Keywords' ].str.count('TRANSFERASE') > 0 ]"
   ]
  },
  {
   "cell_type": "code",
   "execution_count": null,
   "id": "9e409872-cee2-47fd-a7b8-f4a6e47d7fd0",
   "metadata": {},
   "outputs": [],
   "source": [
    "dfClean['Number of Distinct Protein Entities'].value_counts().sort_index()"
   ]
  },
  {
   "cell_type": "code",
   "execution_count": null,
   "id": "ec7ba484-2ce0-4fd2-a30a-96bae4b76756",
   "metadata": {},
   "outputs": [],
   "source": [
    "dfClean['Number of Distinct DNA Entities'].value_counts().sort_index()"
   ]
  },
  {
   "cell_type": "code",
   "execution_count": null,
   "id": "af92b627-fc6e-4596-b830-79a53db814b6",
   "metadata": {},
   "outputs": [],
   "source": [
    "dfClean[['Number of Distinct Protein Entities','Number of Distinct DNA Entities']].value_counts().sort_index()"
   ]
  },
  {
   "cell_type": "code",
   "execution_count": null,
   "id": "fad890e7-5599-4ff7-b05e-e221c0769dc4",
   "metadata": {},
   "outputs": [],
   "source": []
  }
 ],
 "metadata": {
  "kernelspec": {
   "display_name": "Python 3 (ipykernel)",
   "language": "python",
   "name": "python3"
  },
  "language_info": {
   "codemirror_mode": {
    "name": "ipython",
    "version": 3
   },
   "file_extension": ".py",
   "mimetype": "text/x-python",
   "name": "python",
   "nbconvert_exporter": "python",
   "pygments_lexer": "ipython3",
   "version": "3.12.2"
  }
 },
 "nbformat": 4,
 "nbformat_minor": 5
}
