{
 "cells": [
  {
   "cell_type": "code",
   "execution_count": null,
   "id": "72e70432-13d6-4ff0-bff4-e6cda59fa4df",
   "metadata": {},
   "outputs": [],
   "source": [
    "import numpy as np\n",
    "import pandas as pd\n",
    "import os"
   ]
  },
  {
   "cell_type": "code",
   "execution_count": null,
   "id": "9553fe29-50c1-4a45-8766-a12cbde16eba",
   "metadata": {},
   "outputs": [],
   "source": [
    "# structure attributes >> entry features >> Number of Distinct Protein Entities >= 1\n",
    "# structure attributes >> entry features >> Number of Distinct DNA  Entities >= 1\n",
    "# \n",
    "!pwd\n"
   ]
  },
  {
   "cell_type": "code",
   "execution_count": null,
   "id": "ab6c34bd-4008-4abd-9897-00d626085350",
   "metadata": {},
   "outputs": [],
   "source": [
    "!ls"
   ]
  },
  {
   "cell_type": "code",
   "execution_count": null,
   "id": "a04abc28-1448-46f5-aee2-b41220431ebd",
   "metadata": {},
   "outputs": [],
   "source": [
    "a= pd.read_csv('pdna/1a66.csv')"
   ]
  },
  {
   "cell_type": "code",
   "execution_count": null,
   "id": "c041c388-8e06-4f75-baae-c4addee07fc6",
   "metadata": {},
   "outputs": [],
   "source": [
    "a"
   ]
  },
  {
   "cell_type": "code",
   "execution_count": null,
   "id": "f152644f-422b-48f9-9507-2167a118b5f3",
   "metadata": {},
   "outputs": [],
   "source": []
  }
 ],
 "metadata": {
  "kernelspec": {
   "display_name": "Python 3 (ipykernel)",
   "language": "python",
   "name": "python3"
  },
  "language_info": {
   "codemirror_mode": {
    "name": "ipython",
    "version": 3
   },
   "file_extension": ".py",
   "mimetype": "text/x-python",
   "name": "python",
   "nbconvert_exporter": "python",
   "pygments_lexer": "ipython3",
   "version": "3.12.2"
  }
 },
 "nbformat": 4,
 "nbformat_minor": 5
}
