{
 "cells": [
  {
   "cell_type": "code",
   "execution_count": null,
   "id": "72e70432-13d6-4ff0-bff4-e6cda59fa4df",
   "metadata": {},
   "outputs": [],
   "source": [
    "import os\n",
    "import numpy as np\n",
    "import pandas as pd\n",
    "import Bio.PDB as bp\n",
    "import requests"
   ]
  },
  {
   "cell_type": "code",
   "execution_count": null,
   "id": "9553fe29-50c1-4a45-8766-a12cbde16eba",
   "metadata": {},
   "outputs": [],
   "source": [
    "# structure attributes >> entry features >> Number of Distinct Protein Entities >= 1\n",
    "# structure attributes >> entry features >> Number of Distinct DNA  Entities >= 1\n",
    "# \n",
    "pdbFile = 'pdb10/8h0l.pdb'\n",
    "handle = '8h0l'\n",
    "parser=bp.PDBParser()\n",
    "structure = parser.get_structure( handle, pdbFile )\n",
    "with open( pdbFile ) as f:\n",
    "    headerData = bp.parse_pdb_header( pdbFile )\n",
    "print(headerData.keys())\n",
    "print(headerData[ 'structure_method' ])"
   ]
  },
  {
   "cell_type": "code",
   "execution_count": null,
   "id": "f152644f-422b-48f9-9507-2167a118b5f3",
   "metadata": {},
   "outputs": [],
   "source": [
    "for mdl in structure:\n",
    "    print('model',mdl, 'length', len(mdl) )\n",
    "    for chn in mdl:\n",
    "        print('...chain', chn, 'length', len(chn) )"
   ]
  },
  {
   "cell_type": "code",
   "execution_count": null,
   "id": "48ff8615-4adb-423c-bfa8-76ce85d41561",
   "metadata": {},
   "outputs": [],
   "source": [
    "for chn in structure[0]:\n",
    "    print('...chain', chn, 'length', len(chn) )\n",
    "    for res in chn:\n",
    "        print('......residue', res, 'length', len(res))\n",
    "#        for atm in res:\n",
    "#            print('.........atom', atm, atm.get_coord() )\n",
    "            "
   ]
  },
  {
   "cell_type": "code",
   "execution_count": null,
   "id": "4b1cf4b8-53d6-4444-b46b-df6fcff295b8",
   "metadata": {},
   "outputs": [],
   "source": [
    "# try downloading the bioassembly\n",
    "source=handle\n",
    "print(source)\n",
    "url = 'https://files.rcsb.org/download/'+source+'.pdb1'\n",
    "download = requests.get(url)"
   ]
  },
  {
   "cell_type": "code",
   "execution_count": null,
   "id": "344321e5-2270-434b-88b8-ef3f66047cb3",
   "metadata": {},
   "outputs": [],
   "source": [
    "download.reason"
   ]
  },
  {
   "cell_type": "code",
   "execution_count": null,
   "id": "e89fa8ac-1bf2-461d-a24d-172d374ff1c6",
   "metadata": {},
   "outputs": [],
   "source": [
    "#download.text\n",
    "savePath = 'bioassembly/'+source+'.pdb1'\n",
    "print(savePath)\n",
    "with open(savePath,'w') as f:\n",
    "    f.write(download.text)"
   ]
  },
  {
   "cell_type": "code",
   "execution_count": null,
   "id": "7e92f43b-85b3-46b7-b32f-fb9742d83d73",
   "metadata": {},
   "outputs": [],
   "source": [
    "pdbFile = savePath\n",
    "handle = 'bioas'\n",
    "parser1=bp.PDBParser()\n",
    "structure1 = parser1.get_structure( handle, pdbFile )\n",
    "with open( pdbFile ) as f:\n",
    "    headerData1 = bp.parse_pdb_header( pdbFile )\n",
    "print(headerData1.keys())\n",
    "print(headerData1[ 'structure_method' ])"
   ]
  },
  {
   "cell_type": "code",
   "execution_count": null,
   "id": "a0aabfda-d05a-4305-817f-00772ffa9f73",
   "metadata": {},
   "outputs": [],
   "source": [
    "for mdl in structure1:\n",
    "    print('model',mdl, 'length', len(mdl) )\n",
    "    for chn in mdl:\n",
    "        print('...chain', chn, 'length', len(chn) )\n",
    "        for res in chn:\n",
    "            print('......residue', res, 'length', len(res))\n",
    "            for atm in res:\n",
    "                print('.........atom', atm, atm.get_coord() )\n",
    "            "
   ]
  },
  {
   "cell_type": "code",
   "execution_count": null,
   "id": "12462c91-6988-4a69-8205-d55844308e2e",
   "metadata": {},
   "outputs": [],
   "source": [
    "!pwd"
   ]
  },
  {
   "cell_type": "code",
   "execution_count": null,
   "id": "e0f50f99-dba6-45db-8377-ba8a4feccce9",
   "metadata": {},
   "outputs": [],
   "source": [
    "!ls pdb10"
   ]
  },
  {
   "cell_type": "code",
   "execution_count": null,
   "id": "429c79f1-3fa5-4aed-bee1-f41faef58078",
   "metadata": {},
   "outputs": [],
   "source": []
  }
 ],
 "metadata": {
  "kernelspec": {
   "display_name": "Python 3 (ipykernel)",
   "language": "python",
   "name": "python3"
  },
  "language_info": {
   "codemirror_mode": {
    "name": "ipython",
    "version": 3
   },
   "file_extension": ".py",
   "mimetype": "text/x-python",
   "name": "python",
   "nbconvert_exporter": "python",
   "pygments_lexer": "ipython3",
   "version": "3.12.2"
  }
 },
 "nbformat": 4,
 "nbformat_minor": 5
}
