{
 "cells": [
  {
   "cell_type": "code",
   "execution_count": null,
   "id": "26c86ffc-91dd-4b8b-8cc6-2bae8ad76134",
   "metadata": {},
   "outputs": [],
   "source": [
    "from Bio.PDB import PDBList                  # fetches/saves PDB data\n",
    "from Bio.PDB.MMCIF2Dict import MMCIF2Dict    # parses data in mmCIF files\n",
    "from Bio.PDB import MMCIFParser, Selection, is_aa\n",
    "from Bio.SeqUtils import seq1, nt_search\n",
    "import pandas as pd\n",
    "import os\n",
    "import numpy as  np"
   ]
  },
  {
   "cell_type": "markdown",
   "id": "78511129-71f7-4a8e-8216-f5f5f3877079",
   "metadata": {},
   "source": [
    "first part, load in mmcif file"
   ]
  },
  {
   "cell_type": "code",
   "execution_count": null,
   "id": "b9f3321f-1075-483c-b66d-5ab978b89fa7",
   "metadata": {},
   "outputs": [],
   "source": [
    "# load structure\n",
    "structureDirectory = '/home/allen/projects/DATA/db/assemblies'\n",
    "structureFile = '1p3p-assembly1.cif'\n",
    "code = '1p3p'\n",
    "\n",
    "parser = MMCIFParser(QUIET=True)\n",
    "structure = parser.get_structure(code,os.path.join(structureDirectory,structureFile))"
   ]
  },
  {
   "cell_type": "code",
   "execution_count": null,
   "id": "c030e422-4003-4111-bc45-5b3f7b700929",
   "metadata": {},
   "outputs": [],
   "source": [
    "# list number of models, and number of chains in model 0\n",
    "print(len(structure),'model(s)')\n",
    "chains = []\n",
    "model = structure[0]\n",
    "for chain in model:\n",
    "    chains.append( chain.get_id() )\n",
    "print(len(model),'chain(s) in model 0:',chains)"
   ]
  },
  {
   "cell_type": "markdown",
   "id": "df331d05-ab31-425f-abbc-3127b7c3fd38",
   "metadata": {},
   "source": [
    "create the protein structure and sequence arrays"
   ]
  },
  {
   "cell_type": "code",
   "execution_count": null,
   "id": "28a66ad2-2561-4451-b6b5-47f654738ae7",
   "metadata": {},
   "outputs": [],
   "source": [
    "# each entry in the dictionary will be a structure/sequence for a chain\n",
    "proteinStructureDict = {}\n",
    "proteinSequenceDict = {}\n",
    "for chainid in chains:   # loop through all chains in model 0\n",
    "    print('processing chain', chainid)\n",
    "    xyzChain=[]  # will store the coords for the entire chain\n",
    "    seq=[]       # will store sequence for the chain\n",
    "    for residue in model[chainid]:\n",
    "        if not is_aa(residue):   # skip if not aa residue\n",
    "            continue\n",
    "        xyzRes=np.ones((15,3))*np.nan    # blank residue array\n",
    "        for i,atom in enumerate(residue):\n",
    "            xyzRes[i]=atom.get_coord()\n",
    "        xyzChain.append(xyzRes)\n",
    "        seq.append(residue.get_resname())\n",
    "    if xyzChain:   # only add to dict if an list is non-empty\n",
    "        proteinStructureDict[chainid] = np.array(xyzChain)\n",
    "        print('    added protein structure', end=', ')\n",
    "    if seq:\n",
    "        proteinSequenceDict[chainid] = seq1(''.join(seq))\n",
    "        print('    added protein sequence')\n",
    "print('completed processing all chains')\n",
    "                "
   ]
  },
  {
   "cell_type": "code",
   "execution_count": null,
   "id": "dd856e55-b350-4183-b845-7f0f14242edf",
   "metadata": {},
   "outputs": [],
   "source": [
    "proteinStructureDict.keys(), proteinSequenceDict.keys()"
   ]
  },
  {
   "cell_type": "code",
   "execution_count": null,
   "id": "6c05c805-b1c0-4726-9dda-2b199bed87ac",
   "metadata": {},
   "outputs": [],
   "source": [
    "proteinSequenceDict"
   ]
  },
  {
   "cell_type": "code",
   "execution_count": null,
   "id": "bde3b046-a028-4df3-adae-3a64ed78d0af",
   "metadata": {
    "scrolled": true
   },
   "outputs": [],
   "source": [
    "# create the oneHot array for the sequence\n",
    "aminoAcids = \"ARNDCEQGHILKMFPSTWYV\"\n",
    "oneHotDict = {}\n",
    "for k, v in proteinSequenceDict.items():\n",
    "    print('chain',k)\n",
    "    print(v)\n",
    "    pssm=np.zeros((len(v),20))\n",
    "    pssm[ range(len(v)), [aminoAcids.find(c) for c in v]  ] =1\n",
    "    oneHotDict[k] = pssm"
   ]
  },
  {
   "cell_type": "code",
   "execution_count": null,
   "id": "f120cb0f-4b56-436d-afc9-1ff3c4191766",
   "metadata": {},
   "outputs": [],
   "source": [
    "dnaSequence = {}\n",
    "proteinChains\n",
    "proteinSequence = { k:[] for k in chains }\n",
    "for chainid in chains:\n",
    "    print(chainid,'\\n-----------------')\n",
    "    aaList = [is_aa(res) for res in model[chainid]]\n",
    "    \n",
    "    if sum(aaList)>0: print('it\\'s got protein!')\n",
    "    print(aaList)\n",
    "                "
   ]
  },
  {
   "cell_type": "code",
   "execution_count": null,
   "id": "4265cb60-6ba5-438a-a3a5-3450e17d8f70",
   "metadata": {},
   "outputs": [],
   "source": [
    "for k, v in proteinStructureDict.items():\n",
    "    print(k,v.shape)"
   ]
  },
  {
   "cell_type": "code",
   "execution_count": null,
   "id": "407d015e-d464-44fe-a30c-63d8493d39b3",
   "metadata": {},
   "outputs": [],
   "source": [
    "for k, v in proteinSequenceDict.items():\n",
    "    print(k,len(v),v)"
   ]
  },
  {
   "cell_type": "code",
   "execution_count": null,
   "id": "5dbedfdb-5cb2-405d-9958-f6543ea73e92",
   "metadata": {},
   "outputs": [],
   "source": [
    "for k, v in oneHotDict.items():\n",
    "    print(k,v.shape)"
   ]
  },
  {
   "cell_type": "code",
   "execution_count": null,
   "id": "92755a10-2fd4-4f32-9d1a-02109ac60535",
   "metadata": {},
   "outputs": [],
   "source": []
  }
 ],
 "metadata": {
  "kernelspec": {
   "display_name": "Python 3 (ipykernel)",
   "language": "python",
   "name": "python3"
  },
  "language_info": {
   "codemirror_mode": {
    "name": "ipython",
    "version": 3
   },
   "file_extension": ".py",
   "mimetype": "text/x-python",
   "name": "python",
   "nbconvert_exporter": "python",
   "pygments_lexer": "ipython3",
   "version": "3.12.2"
  }
 },
 "nbformat": 4,
 "nbformat_minor": 5
}
