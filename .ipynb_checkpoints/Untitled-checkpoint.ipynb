{
 "cells": [
  {
   "cell_type": "code",
   "execution_count": 13,
   "id": "26c86ffc-91dd-4b8b-8cc6-2bae8ad76134",
   "metadata": {},
   "outputs": [],
   "source": [
    "from Bio.PDB import PDBList                  # fetches/saves PDB data\n",
    "from Bio.PDB.MMCIF2Dict import MMCIF2Dict    # parses data in mmCIF files\n",
    "from Bio.PDB import MMCIFParser, Selection, is_aa\n",
    "from Bio import SeqIO\n",
    "import pandas as pd\n",
    "import os\n",
    "import numpy as  np\n",
    "from Bio import Align\n"
   ]
  },
  {
   "cell_type": "code",
   "execution_count": null,
   "id": "3a919e52-3961-42fc-bbb3-2f838bd9ae32",
   "metadata": {},
   "outputs": [],
   "source": [
    "# setup for fetching multiple entries\n",
    "code='1a02'\n",
    "cifFile = '1a02-assembly1.cif'\n",
    "assemblyDirectory = '../DATA/db/assemblies'"
   ]
  },
  {
   "cell_type": "code",
   "execution_count": 27,
   "id": "c030e422-4003-4111-bc45-5b3f7b700929",
   "metadata": {},
   "outputs": [
    {
     "name": "stdout",
     "output_type": "stream",
     "text": [
      "Chain A\n",
      "XXXXXXXXXXXX\n",
      "Chain B\n",
      "XXXXXXXXXXXX\n",
      "Chain C\n",
      "MIEIKDKQLTGLRFIDLFAGLGGFRLALESCGAECVYSNEWDKYAQEVYEMNFGEKPEGDITQVNEKTIPDHDILCAGFPCQAFSISGKQKGFEDSRGTLFFDIARIVREKKPKVVFMENVKNFASHDNGNTLEVVKNTMNELDYSFHAKVLNALDYGIPQKRERIYMICFRNDLNIQNFQFPKPFELNTFVKDLLLPDSEVEHLVIDRKDLVMTNQEIEQTTPKTVRLGIVGKGGQGERIYSTRGIAITLSAYGGGIFAKTGGYLVNGKTRKLHPRECARVMGYPDSYKVHPSTSQAYKQFGNSVVINVLQYIAYNIGSSLNFKPY\n"
     ]
    }
   ],
   "source": [
    "# calls it chain C = PDB assigned chainid\n",
    "records=[]\n",
    "for record in SeqIO.parse(\"../DATA/db/assemblies/10mh-assembly1.cif\", \"cif-seqres\"):\n",
    "    print(\"Chain\", record.annotations[\"chain\"])\n",
    "    print(record.seq)\n",
    "    records.append(record.seq)"
   ]
  },
  {
   "cell_type": "code",
   "execution_count": 31,
   "id": "3aaef4f8-11ba-4072-922f-84fb34b83570",
   "metadata": {},
   "outputs": [
    {
     "data": {
      "text/plain": [
       "Seq('MIEIKDKQLTGLRFIDLFAGLGGFRLALESCGAECVYSNEWDKYAQEVYEMNFG...KPY')"
      ]
     },
     "execution_count": 31,
     "metadata": {},
     "output_type": "execute_result"
    }
   ],
   "source": [
    "records[2]"
   ]
  },
  {
   "cell_type": "code",
   "execution_count": 37,
   "id": "f67ce4a8-5316-45f2-8d1e-20fddb0bd56c",
   "metadata": {},
   "outputs": [
    {
     "name": "stdout",
     "output_type": "stream",
     "text": [
      "Chain A\n",
      "MIEIKDKQLTGLRFIDLFAGLGGFRLALESCGAECVYSNEWDKYAQEVYEMNFGEKPEGDITQVNEKTIPDHDILCAGFPCQAFSISGKQKGFEDSRGTLFFDIARIVREKKPKVVFMENVKNFASHDNGNTLEVVKNTMNELDYSFHAKVLNALDYGIPQKRERIYMICFRNDLNIQNFQFPKPFELNTFVKDLLLPDSEVEHLVIDRKDLVMTNQEIEQTTPKTVRLGIVGKGGQGERIYSTRGIAITLSAYGGGIFAKTGGYLVNGKTRKLHPRECARVMGYPDSYKVHPSTSQAYKQFGNSVVINVLQYIAYNIGSSLNFKPYC\n"
     ]
    },
    {
     "name": "stderr",
     "output_type": "stream",
     "text": [
      "/home/allen/anaconda3/lib/python3.12/site-packages/Bio/PDB/StructureBuilder.py:100: PDBConstructionWarning: WARNING: Chain B is discontinuous at line 3125.\n",
      "  warnings.warn(\n",
      "/home/allen/anaconda3/lib/python3.12/site-packages/Bio/PDB/StructureBuilder.py:100: PDBConstructionWarning: WARNING: Chain C is discontinuous at line 3131.\n",
      "  warnings.warn(\n",
      "/home/allen/anaconda3/lib/python3.12/site-packages/Bio/PDB/StructureBuilder.py:100: PDBConstructionWarning: WARNING: Chain A is discontinuous at line 3140.\n",
      "  warnings.warn(\n"
     ]
    }
   ],
   "source": [
    "# calls it chain A=author chainid\n",
    "# adds a spurious cysteine to end ?????\n",
    "recordsA=[]\n",
    "for record in SeqIO.parse(\"../DATA/db/assemblies/10mh-assembly1.cif\", \"cif-atom\"):\n",
    "    print(\"Chain\", record.annotations[\"chain\"])\n",
    "    print(record.seq)\n",
    "    recordsA.append(record.seq)"
   ]
  },
  {
   "cell_type": "code",
   "execution_count": 41,
   "id": "18d04b90-5d6e-4b91-a954-7393131532d8",
   "metadata": {},
   "outputs": [
    {
     "data": {
      "text/plain": [
       "Seq('MIEIKDKQLTGLRFIDLFAGLGGFRLALESCGAECVYSNEWDKYAQEVYEMNFG...PYC')"
      ]
     },
     "execution_count": 41,
     "metadata": {},
     "output_type": "execute_result"
    }
   ],
   "source": [
    "recordsA[0]"
   ]
  },
  {
   "cell_type": "code",
   "execution_count": 43,
   "id": "4a3247af-4785-456b-aa16-9f2af895690a",
   "metadata": {},
   "outputs": [
    {
     "data": {
      "text/plain": [
       "327.0"
      ]
     },
     "execution_count": 43,
     "metadata": {},
     "output_type": "execute_result"
    }
   ],
   "source": [
    "\n",
    "aligner = Align.PairwiseAligner()\n",
    "target = recordsA[0]\n",
    "query = records[2]\n",
    "score = aligner.score(target, query)\n",
    "score"
   ]
  },
  {
   "cell_type": "code",
   "execution_count": 45,
   "id": "293077e5-4b1c-470c-bd8e-c05db996df8d",
   "metadata": {},
   "outputs": [
    {
     "name": "stdout",
     "output_type": "stream",
     "text": [
      "target            0 MIEIKDKQLTGLRFIDLFAGLGGFRLALESCGAECVYSNEWDKYAQEVYEMNFGEKPEGD\n",
      "                  0 ||||||||||||||||||||||||||||||||||||||||||||||||||||||||||||\n",
      "query             0 MIEIKDKQLTGLRFIDLFAGLGGFRLALESCGAECVYSNEWDKYAQEVYEMNFGEKPEGD\n",
      "\n",
      "target           60 ITQVNEKTIPDHDILCAGFPCQAFSISGKQKGFEDSRGTLFFDIARIVREKKPKVVFMEN\n",
      "                 60 ||||||||||||||||||||||||||||||||||||||||||||||||||||||||||||\n",
      "query            60 ITQVNEKTIPDHDILCAGFPCQAFSISGKQKGFEDSRGTLFFDIARIVREKKPKVVFMEN\n",
      "\n",
      "target          120 VKNFASHDNGNTLEVVKNTMNELDYSFHAKVLNALDYGIPQKRERIYMICFRNDLNIQNF\n",
      "                120 ||||||||||||||||||||||||||||||||||||||||||||||||||||||||||||\n",
      "query           120 VKNFASHDNGNTLEVVKNTMNELDYSFHAKVLNALDYGIPQKRERIYMICFRNDLNIQNF\n",
      "\n",
      "target          180 QFPKPFELNTFVKDLLLPDSEVEHLVIDRKDLVMTNQEIEQTTPKTVRLGIVGKGGQGER\n",
      "                180 ||||||||||||||||||||||||||||||||||||||||||||||||||||||||||||\n",
      "query           180 QFPKPFELNTFVKDLLLPDSEVEHLVIDRKDLVMTNQEIEQTTPKTVRLGIVGKGGQGER\n",
      "\n",
      "target          240 IYSTRGIAITLSAYGGGIFAKTGGYLVNGKTRKLHPRECARVMGYPDSYKVHPSTSQAYK\n",
      "                240 ||||||||||||||||||||||||||||||||||||||||||||||||||||||||||||\n",
      "query           240 IYSTRGIAITLSAYGGGIFAKTGGYLVNGKTRKLHPRECARVMGYPDSYKVHPSTSQAYK\n",
      "\n",
      "target          300 QFGNSVVINVLQYIAYNIGSSLNFKPYC 328\n",
      "                300 |||||||||||||||||||||||||||- 328\n",
      "query           300 QFGNSVVINVLQYIAYNIGSSLNFKPY- 327\n",
      "\n"
     ]
    }
   ],
   "source": [
    "alignments = aligner.align(target, query)\n",
    "for alignment in alignments:\n",
    "    print(alignment)"
   ]
  },
  {
   "cell_type": "code",
   "execution_count": null,
   "id": "dea54cac-7c61-4491-bc4f-fbe8c3852858",
   "metadata": {
    "scrolled": true
   },
   "outputs": [],
   "source": [
    "for model in structure:\n",
    "    for chain in model:\n",
    "        for residue in chain:\n",
    "            print(chain.get_id(),residue.get_id()[1],residue.get_resname())\n",
    "#            print(residue.get_parent().get_parent(),residue.get_parent(),residue, is_aa(residue))\n",
    "#            for atom in residue:\n",
    "#                print(atom)"
   ]
  },
  {
   "cell_type": "code",
   "execution_count": null,
   "id": "f120cb0f-4b56-436d-afc9-1ff3c4191766",
   "metadata": {},
   "outputs": [],
   "source": [
    "proteinChains=['N','F','J']\n",
    "structureDict = {}\n",
    "sequenceDict = {}\n",
    "for chainid in proteinChains:\n",
    "    xyzResidue=[]\n",
    "    seq=[]\n",
    "    chain = structure[0][chainid]\n",
    "    for residue in chain:\n",
    "        xyzAtoms=np.ones((15,3))*np.nan\n",
    "        if not is_aa(residue):\n",
    "            continue\n",
    "        for i,atom in enumerate(residue):\n",
    "            print(chain.get_id(),residue.get_id()[1],residue.get_resname(),atom.get_id(),atom.get_coord())\n",
    "            xyzAtoms[i]=atom.get_coord()\n",
    "        print(xyzAtoms)\n",
    "        xyzResidue.append(xyzAtoms)\n",
    "        seq.append(residue.get_resname())\n",
    "    structureDict[chain.get_id()] = np.array(xyzResidue)\n",
    "    sequenceDict[chain.get_id()] = seq\n",
    "                "
   ]
  },
  {
   "cell_type": "code",
   "execution_count": null,
   "id": "4265cb60-6ba5-438a-a3a5-3450e17d8f70",
   "metadata": {},
   "outputs": [],
   "source": [
    "for k, v in structureDict.items():\n",
    "    print(v.shape)"
   ]
  },
  {
   "cell_type": "code",
   "execution_count": null,
   "id": "407d015e-d464-44fe-a30c-63d8493d39b3",
   "metadata": {},
   "outputs": [],
   "source": [
    "for k, v in sequenceDict.items():\n",
    "    print(len(v))"
   ]
  },
  {
   "cell_type": "code",
   "execution_count": null,
   "id": "bde3b046-a028-4df3-adae-3a64ed78d0af",
   "metadata": {},
   "outputs": [],
   "source": [
    "for k, v in sequenceDict.items():\n",
    "    print('chain',k)\n",
    "    print(v)"
   ]
  },
  {
   "cell_type": "code",
   "execution_count": null,
   "id": "89c51685-e252-476a-91cf-f1722d0946b6",
   "metadata": {},
   "outputs": [],
   "source": [
    "seq="
   ]
  },
  {
   "cell_type": "code",
   "execution_count": null,
   "id": "78345b58-56e0-40c4-8001-5454aef15863",
   "metadata": {
    "scrolled": true
   },
   "outputs": [],
   "source": [
    "for residue in structure[0]['A']:\n",
    "    print(residue)"
   ]
  },
  {
   "cell_type": "code",
   "execution_count": null,
   "id": "93b67eb5-dfec-4027-8e4d-5a5833105de9",
   "metadata": {},
   "outputs": [],
   "source": [
    "model = structure[0]\n",
    "chain = model[\"A\"]\n",
    "residue = chain[3]\n",
    "\n",
    "\n",
    "\n",
    "for chain in model:\n",
    "    print(chain,len(chain))\n",
    "\n",
    "for model in structure:\n",
    "    for chain in model:\n",
    "        for residue in chain:\n",
    "            print(residue.get_parent().get_parent(),residue.get_parent(),residue,is_aa(residue))\n",
    "#            for atom in residue:\n",
    "#                print(atom)"
   ]
  }
 ],
 "metadata": {
  "kernelspec": {
   "display_name": "Python 3 (ipykernel)",
   "language": "python",
   "name": "python3"
  },
  "language_info": {
   "codemirror_mode": {
    "name": "ipython",
    "version": 3
   },
   "file_extension": ".py",
   "mimetype": "text/x-python",
   "name": "python",
   "nbconvert_exporter": "python",
   "pygments_lexer": "ipython3",
   "version": "3.12.2"
  }
 },
 "nbformat": 4,
 "nbformat_minor": 5
}
