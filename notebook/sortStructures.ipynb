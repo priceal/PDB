{
 "cells": [
  {
   "cell_type": "markdown",
   "id": "7ddbf39c-0174-48cf-856f-b66cb3c0d642",
   "metadata": {},
   "source": [
    "### sort through list of structure, rejecting, saving, or defering for later.\n",
    "\n",
    "loads a \"sort\" file --  a csv with a column labeled 'sort' which will contain\n",
    "\n",
    "'u':   unsorted \n",
    "\n",
    "'s':   save\n",
    "\n",
    "'d':   delete\n",
    "\n",
    "'f':   saved (f)or later review\n"
   ]
  },
  {
   "cell_type": "code",
   "execution_count": null,
   "id": "f3fcccc7-7348-4d58-a456-720c15b0d104",
   "metadata": {},
   "outputs": [],
   "source": [
    "import os\n",
    "import pandas as pd\n",
    "import py3Dmol"
   ]
  },
  {
   "cell_type": "code",
   "execution_count": null,
   "id": "d388d623-b366-4d43-9f8c-b0271b1790b5",
   "metadata": {},
   "outputs": [],
   "source": [
    "sortFile = '../csv/filteredSort_20250324.csv'         # contains path to structure\n",
    "summaryFile = '/home/allen/projects/db/csv/summary.csv'  # contains title, polymer counts, name\n",
    "dataDirectoryPrefix = '..'   # 'offset' if needed\n",
    "\n",
    "#########################################################################\n",
    "dataDf = pd.read_csv( sortFile )\n",
    "summaryDf = pd.read_csv( summaryFile )"
   ]
  },
  {
   "cell_type": "code",
   "execution_count": null,
   "id": "3af83b19-f23e-410a-8350-2e399db33995",
   "metadata": {},
   "outputs": [],
   "source": [
    "dataDf"
   ]
  },
  {
   "cell_type": "code",
   "execution_count": null,
   "id": "b7455bac-ca1a-49fc-9373-76abc4853e39",
   "metadata": {},
   "outputs": [],
   "source": [
    "summaryDf"
   ]
  },
  {
   "cell_type": "code",
   "execution_count": null,
   "id": "77ae1673-c126-41a7-b9f1-3fefb07ef4a8",
   "metadata": {},
   "outputs": [],
   "source": [
    "for i in dataDf.index:\n",
    "    \n",
    "    if dataDf.at[i,'sort'] == 'u': # only sort if unsorted\n",
    "\n",
    "        entry = summaryDf[ summaryDf['pdbid'] == dataDf.at[i,'pdbid'] ].iloc[0]\n",
    "        print('_______________________________________________________________________')\n",
    "        print(f'{i}. {entry.pdbid}: {entry.title}')\n",
    "        print('form: {}\\tproteins: {}\\tdnas: {}\\t\\trnas: {}\\t\\thybrids: {}'.format(\n",
    "            entry['name'], entry.polypeptide, entry.dna, entry.rna, entry['dna/rna'] ) )\n",
    "               \n",
    "        path = os.path.join( '..', dataDf.at[i,'path'] )\n",
    "        with open( path, 'r' ) as f:\n",
    "            data=f.read( )\n",
    "        p = py3Dmol.view(data=data)\n",
    "        p.setStyle({'cartoon': {'color':'spectrum'}})\n",
    "        print('file:',path)\n",
    "        p.show()\n",
    "      \n",
    "        selection=input( '[s]ave, [d]iscard, [f]or latter review, or [E]xit: ')\n",
    "        if selection:   #skip if no letter is input\n",
    "            if selection=='E':   # break on 'E'xit\n",
    "                print('Exiting...')\n",
    "                break\n",
    "            dataDf.at[i,'sort']=selection\n",
    "        \n"
   ]
  },
  {
   "cell_type": "code",
   "execution_count": null,
   "id": "403e270d-2b22-4355-b374-680d37d3e97c",
   "metadata": {},
   "outputs": [],
   "source": [
    "dataDf.to_csv('sort_20250331.csv',index=False)"
   ]
  },
  {
   "cell_type": "code",
   "execution_count": null,
   "id": "4a663846-6f87-4884-9271-c26712963150",
   "metadata": {},
   "outputs": [],
   "source": []
  }
 ],
 "metadata": {
  "kernelspec": {
   "display_name": "Python 3 (ipykernel)",
   "language": "python",
   "name": "python3"
  },
  "language_info": {
   "codemirror_mode": {
    "name": "ipython",
    "version": 3
   },
   "file_extension": ".py",
   "mimetype": "text/x-python",
   "name": "python",
   "nbconvert_exporter": "python",
   "pygments_lexer": "ipython3",
   "version": "3.12.2"
  }
 },
 "nbformat": 4,
 "nbformat_minor": 5
}
