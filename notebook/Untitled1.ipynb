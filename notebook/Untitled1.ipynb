{
 "cells": [
  {
   "cell_type": "code",
   "execution_count": null,
   "id": "f3fcccc7-7348-4d58-a456-720c15b0d104",
   "metadata": {},
   "outputs": [],
   "source": [
    "import py3Dmol\n",
    "import os\n",
    "import pandas as pd\n"
   ]
  },
  {
   "cell_type": "code",
   "execution_count": null,
   "id": "d388d623-b366-4d43-9f8c-b0271b1790b5",
   "metadata": {},
   "outputs": [],
   "source": [
    "sortFile = '../csv/filteredSort_20250324.csv'   # leave ''  if you do not want to save \n",
    "summaryFile = '/home/allen/projects/db/csv/summary.csv'\n",
    "dataDirectoryPrefix = '..'\n",
    "\n",
    "dataDf = pd.read_csv( sortFile )\n",
    "summaryDf = pd.read_csv( summaryFile )\n"
   ]
  },
  {
   "cell_type": "code",
   "execution_count": null,
   "id": "8275367a-1376-47e5-8e69-ef8149459059",
   "metadata": {},
   "outputs": [],
   "source": [
    "summaryDf[ summaryDf['pdbid'] == '193d' ].iloc[0].title"
   ]
  },
  {
   "cell_type": "code",
   "execution_count": null,
   "id": "4f233a72-5b67-4acf-8aae-92870bee45e0",
   "metadata": {},
   "outputs": [],
   "source": [
    "dataDf = dataDf[:410]\n"
   ]
  },
  {
   "cell_type": "code",
   "execution_count": null,
   "id": "77ae1673-c126-41a7-b9f1-3fefb07ef4a8",
   "metadata": {},
   "outputs": [],
   "source": [
    "for i in dataDf.index:\n",
    "    \n",
    "    if dataDf.at[i,'sort'] == 'u': # only sort if unsorted\n",
    "\n",
    "        entry = summaryDf[ summaryDf['pdbid'] == dataDf.at[i,'pdbid'] ].iloc[0]\n",
    "        print(entry.pdbid,':',entry.title)\n",
    "        print('proteins: {}\\tdnas: {}\\t\\trnas: {}\\t\\thybrids: {}\\t\\tform:{}'.format(\n",
    "            entry.polypeptide, entry.dna, entry.rna, entry['dna/rna'], entry['name'] ) )\n",
    "               \n",
    "        path = os.path.join( '..', dataDf.at[i,'path'] )\n",
    "        with open( path, 'r' ) as f:\n",
    "            data=f.read( )\n",
    "        p = py3Dmol.view(data=data)\n",
    "        p.setStyle({'cartoon': {'color':'spectrum'}})\n",
    "        print('file:',path)\n",
    "        p.show()\n",
    "      \n",
    "        selection=input( '[s]ave, [d]iscard, [f]or latter review, or [E]xit: ')\n",
    "        if selection:   #skip if no letter is input\n",
    "            if selection=='E':   # break on 'E'xit\n",
    "                print('Exiting...')\n",
    "                break\n",
    "            dataDf.at[i,'sort']=selection\n",
    "        \n"
   ]
  },
  {
   "cell_type": "code",
   "execution_count": null,
   "id": "403e270d-2b22-4355-b374-680d37d3e97c",
   "metadata": {},
   "outputs": [],
   "source": []
  }
 ],
 "metadata": {
  "kernelspec": {
   "display_name": "Python 3 (ipykernel)",
   "language": "python",
   "name": "python3"
  },
  "language_info": {
   "codemirror_mode": {
    "name": "ipython",
    "version": 3
   },
   "file_extension": ".py",
   "mimetype": "text/x-python",
   "name": "python",
   "nbconvert_exporter": "python",
   "pygments_lexer": "ipython3",
   "version": "3.12.2"
  }
 },
 "nbformat": 4,
 "nbformat_minor": 5
}
